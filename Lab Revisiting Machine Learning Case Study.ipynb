{
 "cells": [
  {
   "cell_type": "markdown",
   "metadata": {},
   "source": [
    "Lab | Revisiting Machine Learning Case Study\n",
    "In this lab, you will use learningSet.csv file which you already have cloned in today's activities.\n",
    "Instructions\n",
    "Complete the following steps on the categorical columns in the dataset:\n",
    "\n",
    "Check for null values in all the columns\n",
    "\n",
    "Exclude the following variables by looking at the definitions. Create a new empty list called drop_list. We will append this list and then drop all the columns in this list later:\n",
    "\n",
    "OSOURCE - symbol definitions not provided, too many categories\n",
    "ZIP CODE - we are including state already\n",
    "Identify columns that over 85% missing values\n",
    "\n",
    "Remove those columns from the dataframe\n",
    "\n",
    "Reduce the number of categories in the column GENDER. The column should only have either \"M\" for males, \"F\" for females, and \"other\" for all the rest\n",
    "\n",
    "Note that there are a few null values in the column. We will first replace those null values using the code below:\n",
    "print(categorical['GENDER'].value_counts())\n",
    "categorical['GENDER'] = categorical['GENDER'].fillna('F')"
   ]
  },
  {
   "cell_type": "code",
   "execution_count": 1,
   "metadata": {},
   "outputs": [],
   "source": [
    "import pandas as pd"
   ]
  },
  {
   "cell_type": "code",
   "execution_count": 2,
   "metadata": {},
   "outputs": [],
   "source": [
    "df = pd.read_csv(r\"C:\\Users\\Usuari\\Downloads\\learningSet.csv\\learningSet.csv\",low_memory=False)"
   ]
  },
  {
   "cell_type": "code",
   "execution_count": 3,
   "metadata": {},
   "outputs": [],
   "source": [
    "# 1. Aplicar strip a todas las columnas\n",
    "df = df.applymap(lambda x: x.strip() if isinstance(x, str) else x)"
   ]
  },
  {
   "cell_type": "code",
   "execution_count": 4,
   "metadata": {},
   "outputs": [],
   "source": [
    "# 2. Reemplazar todos los valores que sean una cadena vacía por None\n",
    "df.replace('', None, inplace=True)"
   ]
  },
  {
   "cell_type": "code",
   "execution_count": 5,
   "metadata": {},
   "outputs": [],
   "source": [
    "drop_list = []"
   ]
  },
  {
   "cell_type": "code",
   "execution_count": null,
   "metadata": {},
   "outputs": [],
   "source": []
  },
  {
   "cell_type": "code",
   "execution_count": 6,
   "metadata": {},
   "outputs": [],
   "source": [
    "# 3. Calcular los nulos por columna\n",
    "null_counts = df.isnull().sum()"
   ]
  },
  {
   "cell_type": "code",
   "execution_count": 7,
   "metadata": {},
   "outputs": [],
   "source": [
    "# Identificar el número total de filas en el DataFrame\n",
    "total_rows = df.shape[0]"
   ]
  },
  {
   "cell_type": "code",
   "execution_count": 8,
   "metadata": {},
   "outputs": [],
   "source": [
    "# 4. Filtrar las columnas que tienen más del 85% de valores nulos\n",
    "columns_to_drop_due_to_nulls = [col for col, count in null_counts.items() if count / total_rows > 0.85]"
   ]
  },
  {
   "cell_type": "code",
   "execution_count": 9,
   "metadata": {},
   "outputs": [],
   "source": [
    "# Crear una lista vacía llamada drop_list\n",
    "drop_list = []"
   ]
  },
  {
   "cell_type": "code",
   "execution_count": 10,
   "metadata": {},
   "outputs": [],
   "source": [
    "# Agregar las columnas OSOURCE y ZIP CODE a la lista drop_list\n",
    "drop_list.extend(['OSOURCE', 'ZIP'])"
   ]
  },
  {
   "cell_type": "code",
   "execution_count": 11,
   "metadata": {},
   "outputs": [],
   "source": [
    "drop_list.extend(['OSOURCE', 'ZIP'])"
   ]
  },
  {
   "cell_type": "code",
   "execution_count": 12,
   "metadata": {},
   "outputs": [
    {
     "data": {
      "text/plain": [
       "['OSOURCE', 'ZIP', 'OSOURCE', 'ZIP']"
      ]
     },
     "execution_count": 12,
     "metadata": {},
     "output_type": "execute_result"
    }
   ],
   "source": [
    "drop_list"
   ]
  },
  {
   "cell_type": "code",
   "execution_count": 13,
   "metadata": {},
   "outputs": [],
   "source": [
    "for column in df.columns:\n",
    "    if df[column].count()/len(df[column])<0.15:\n",
    "        drop_list.append(column)"
   ]
  },
  {
   "cell_type": "code",
   "execution_count": 23,
   "metadata": {},
   "outputs": [],
   "source": [
    "drop_list=list(set(drop_list))"
   ]
  },
  {
   "cell_type": "code",
   "execution_count": 24,
   "metadata": {},
   "outputs": [
    {
     "data": {
      "text/plain": [
       "['CARDS',\n",
       " 'RAMNT_7',\n",
       " 'RAMNT_21',\n",
       " 'FISHER',\n",
       " 'PLATES',\n",
       " 'PHOTO',\n",
       " 'ZIP',\n",
       " 'RECSWEEP',\n",
       " 'RAMNT_20',\n",
       " 'CRAFTS',\n",
       " 'RDATE_20',\n",
       " 'VETERANS',\n",
       " 'STEREO',\n",
       " 'RAMNT_4',\n",
       " 'RDATE_21',\n",
       " 'RAMNT_15',\n",
       " 'RDATE_7',\n",
       " 'RECP3',\n",
       " 'RECPGVG',\n",
       " 'RDATE_5',\n",
       " 'RDATE_6',\n",
       " 'RAMNT_6',\n",
       " 'HOMEE',\n",
       " 'RAMNT_3',\n",
       " 'MAILCODE',\n",
       " 'PVASTATE',\n",
       " 'COLLECT1',\n",
       " 'SOLP3',\n",
       " 'RDATE_4',\n",
       " 'RAMNT_13',\n",
       " 'RECINHSE',\n",
       " 'OSOURCE',\n",
       " 'KIDSTUFF',\n",
       " 'RAMNT_17',\n",
       " 'WALKER',\n",
       " 'CDPLAY',\n",
       " 'RDATE_3',\n",
       " 'CHILD07',\n",
       " 'RDATE_13',\n",
       " 'RDATE_15',\n",
       " 'RDATE_17',\n",
       " 'CHILD18',\n",
       " 'PCOWNERS',\n",
       " 'RDATE_23',\n",
       " 'CATLG',\n",
       " 'BOATS',\n",
       " 'RDATE_10',\n",
       " 'BIBLE',\n",
       " 'RAMNT_5',\n",
       " 'CHILD03',\n",
       " 'GARDENIN',\n",
       " 'SOLIH',\n",
       " 'MAJOR',\n",
       " 'RAMNT_23',\n",
       " 'CHILD12',\n",
       " 'NUMCHLD',\n",
       " 'RAMNT_10']"
      ]
     },
     "execution_count": 24,
     "metadata": {},
     "output_type": "execute_result"
    }
   ],
   "source": [
    "drop_list"
   ]
  },
  {
   "cell_type": "code",
   "execution_count": 15,
   "metadata": {},
   "outputs": [],
   "source": [
    "# Agregar las columnas con más del 85% de valores nulos a drop_list\n",
    "drop_list.extend(columns_to_drop_due_to_nulls)"
   ]
  },
  {
   "cell_type": "code",
   "execution_count": 16,
   "metadata": {},
   "outputs": [],
   "source": [
    "# Eliminar las columnas en drop_list del DataFrame\n",
    "df.drop(columns=drop_list, inplace=True)"
   ]
  },
  {
   "cell_type": "code",
   "execution_count": 17,
   "metadata": {},
   "outputs": [
    {
     "name": "stdout",
     "output_type": "stream",
     "text": [
      "Index(['ODATEDW', 'TCODE', 'STATE', 'DOB', 'NOEXCH', 'MDMAUD', 'DOMAIN',\n",
      "       'CLUSTER', 'AGE', 'AGEFLAG',\n",
      "       ...\n",
      "       'TARGET_D', 'HPHONE_D', 'RFA_2R', 'RFA_2F', 'RFA_2A', 'MDMAUD_R',\n",
      "       'MDMAUD_F', 'MDMAUD_A', 'CLUSTER2', 'GEOCODE2'],\n",
      "      dtype='object', length=424)\n"
     ]
    }
   ],
   "source": [
    "print(df.columns)"
   ]
  },
  {
   "cell_type": "code",
   "execution_count": 18,
   "metadata": {},
   "outputs": [],
   "source": [
    "# Reducir la cantidad de categorías en la columna GENDER. La columna solo debe tener \"M\" para hombres, \"F\" para mujeres y \"otro\" para el resto"
   ]
  },
  {
   "cell_type": "code",
   "execution_count": 19,
   "metadata": {},
   "outputs": [],
   "source": [
    "# Reemplazar valores nulos en la columna GENDER con 'F'\n",
    "df['GENDER'] = df['GENDER'].fillna('F')"
   ]
  },
  {
   "cell_type": "code",
   "execution_count": 20,
   "metadata": {},
   "outputs": [
    {
     "name": "stdout",
     "output_type": "stream",
     "text": [
      "Valores únicos en la columna GENDER antes de la limpieza:\n",
      "F    54234\n",
      "M    39094\n",
      "U     1715\n",
      "J      365\n",
      "C        2\n",
      "A        2\n",
      "Name: GENDER, dtype: int64\n"
     ]
    }
   ],
   "source": [
    "# Ver los valores únicos antes de la limpieza\n",
    "print(\"Valores únicos en la columna GENDER antes de la limpieza:\")\n",
    "print(df['GENDER'].value_counts())"
   ]
  },
  {
   "cell_type": "code",
   "execution_count": 21,
   "metadata": {},
   "outputs": [],
   "source": [
    "# Reemplazar todos los valores distintos de 'M' y 'F' con 'otro'\n",
    "df['GENDER'] = df['GENDER'].apply(lambda x: x if x in ['M', 'F'] else 'otro')"
   ]
  },
  {
   "cell_type": "code",
   "execution_count": 22,
   "metadata": {},
   "outputs": [
    {
     "name": "stdout",
     "output_type": "stream",
     "text": [
      "\n",
      "Valores únicos en la columna GENDER después de la limpieza:\n",
      "F       54234\n",
      "M       39094\n",
      "otro     2084\n",
      "Name: GENDER, dtype: int64\n"
     ]
    }
   ],
   "source": [
    "# Verificar los valores únicos en la columna GENDER después de la limpieza\n",
    "print(\"\\nValores únicos en la columna GENDER después de la limpieza:\")\n",
    "print(df['GENDER'].value_counts())"
   ]
  },
  {
   "cell_type": "code",
   "execution_count": null,
   "metadata": {},
   "outputs": [],
   "source": []
  },
  {
   "cell_type": "code",
   "execution_count": null,
   "metadata": {},
   "outputs": [],
   "source": []
  },
  {
   "cell_type": "code",
   "execution_count": null,
   "metadata": {},
   "outputs": [],
   "source": []
  }
 ],
 "metadata": {
  "kernelspec": {
   "display_name": "base",
   "language": "python",
   "name": "python3"
  },
  "language_info": {
   "codemirror_mode": {
    "name": "ipython",
    "version": 3
   },
   "file_extension": ".py",
   "mimetype": "text/x-python",
   "name": "python",
   "nbconvert_exporter": "python",
   "pygments_lexer": "ipython3",
   "version": "3.11.3"
  }
 },
 "nbformat": 4,
 "nbformat_minor": 2
}
